{
 "cells": [
  {
   "cell_type": "code",
   "execution_count": null,
   "id": "f660d2a7",
   "metadata": {},
   "outputs": [],
   "source": [
    "import pandas as pd\n",
    "advert = pd.read_csv('advertising.csv')\n",
    "advert.head()"
   ]
  },
  {
   "cell_type": "code",
   "execution_count": null,
   "id": "e8452560",
   "metadata": {},
   "outputs": [],
   "source": [
    "import statsmodels.formula.api as smf\n",
    "\n",
    "model = smf.ols('Sales ~ TV', data=advert)\n",
    "model = model.fit()"
   ]
  },
  {
   "cell_type": "markdown",
   "id": "432ab02c",
   "metadata": {},
   "source": [
    "# α = 7.032 and β = 0.047\n",
    "# α:절편\n",
    "# β:기울기"
   ]
  },
  {
   "cell_type": "markdown",
   "id": "4d74f473",
   "metadata": {},
   "source": [
    "# Sales = 7.032 + 0.047*TV"
   ]
  },
  {
   "cell_type": "code",
   "execution_count": null,
   "id": "b442739f",
   "metadata": {},
   "outputs": [],
   "source": [
    "# Predict values\n",
    "sales_pred = model.predict()\n",
    "\n",
    "plt.figure(figsize=(12, 6))\n",
    "plt.plot(advert['TV'], advert['Sales'], 'o')     \n",
    "plt.plot(advert['TV'], sales_pred, 'r', linewidth=2) \n",
    "plt.xlabel('TV Advertising Costs')\n",
    "plt.ylabel('Sales')\n",
    "plt.title('TV vs Sales')\n",
    "\n",
    "plt.show()"
   ]
  },
  {
   "cell_type": "code",
   "execution_count": null,
   "id": "779d5e7e",
   "metadata": {},
   "outputs": [],
   "source": [
    "new_X = 400\n",
    "model.predict({\"TV\": new_X})"
   ]
  },
  {
   "cell_type": "markdown",
   "id": "9500f518",
   "metadata": {},
   "source": [
    "# TV 광고 비용을 $400 증가시키면\n",
    "# 매출은 26단위만큼 증가함."
   ]
  },
  {
   "cell_type": "markdown",
   "id": "74d33696",
   "metadata": {},
   "source": [
    "# 다중선형회귀분석"
   ]
  },
  {
   "cell_type": "code",
   "execution_count": null,
   "id": "2ec48ca5",
   "metadata": {},
   "outputs": [],
   "source": [
    "from sklearn.linear_model import LinearRegression\n",
    "\n",
    "predictors = ['TV', 'Radio']\n",
    "X = advert[predictors]\n",
    "y = advert['Sales']\n",
    "\n",
    "# Initialise and fit model\n",
    "lm = LinearRegression()\n",
    "model = lm.fit(X, y)"
   ]
  },
  {
   "cell_type": "code",
   "execution_count": null,
   "id": "016cc755",
   "metadata": {},
   "outputs": [],
   "source": [
    "print(f'alpha = {model.intercept_}')\n",
    "print(f'betas = {model.coef_}')"
   ]
  },
  {
   "cell_type": "markdown",
   "id": "5998292a",
   "metadata": {},
   "source": [
    "# Sales = 2.921 + 0.046*TV + 0.1880*Radio.\n"
   ]
  },
  {
   "cell_type": "code",
   "execution_count": null,
   "id": "dde0895f",
   "metadata": {},
   "outputs": [],
   "source": [
    "model.predict(X)\n"
   ]
  },
  {
   "cell_type": "code",
   "execution_count": null,
   "id": "6e8a6a78",
   "metadata": {},
   "outputs": [],
   "source": [
    "new_X = [[300, 200]]\n",
    "print(model.predict(new_X))"
   ]
  },
  {
   "cell_type": "markdown",
   "id": "07e4c876",
   "metadata": {},
   "source": [
    "# 광고 중 TV광고 300불과 라디오 광고 200불을 투자하면 \n",
    "# 54개의 단위만큼 증가할것이다."
   ]
  },
  {
   "cell_type": "code",
   "execution_count": null,
   "id": "c79840f5",
   "metadata": {},
   "outputs": [],
   "source": []
  }
 ],
 "metadata": {
  "kernelspec": {
   "display_name": "Python 3",
   "language": "python",
   "name": "python3"
  },
  "language_info": {
   "codemirror_mode": {
    "name": "ipython",
    "version": 3
   },
   "file_extension": ".py",
   "mimetype": "text/x-python",
   "name": "python",
   "nbconvert_exporter": "python",
   "pygments_lexer": "ipython3",
   "version": "3.7.10"
  }
 },
 "nbformat": 4,
 "nbformat_minor": 5
}
