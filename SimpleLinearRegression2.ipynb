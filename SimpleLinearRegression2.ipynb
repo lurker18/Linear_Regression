{
 "cells": [
  {
   "cell_type": "code",
   "execution_count": null,
   "id": "58f1866d",
   "metadata": {},
   "outputs": [],
   "source": [
    "from sklearn.linear_model import LinearRegression\n",
    "import pandas as pd\n",
    "import numpy as np\n",
    "import matplotlib.pyplot as plt"
   ]
  },
  {
   "cell_type": "code",
   "execution_count": null,
   "id": "841d4d36",
   "metadata": {},
   "outputs": [],
   "source": [
    "df = pd.read_csv(\"heights.csv\")\n",
    "df.head()"
   ]
  },
  {
   "cell_type": "markdown",
   "id": "d97640e2",
   "metadata": {},
   "source": [
    "## 키와 몸무게가 우리나라 상식에는 좀 어긋난데, 아마 미국 기준의 데이터라서 그런 것 같다."
   ]
  },
  {
   "cell_type": "code",
   "execution_count": null,
   "id": "2efcaeef",
   "metadata": {},
   "outputs": [],
   "source": [
    "X = df[\"height\"]\n",
    "y = df[\"weight\"]\n",
    "plt.plot(X, y, 'o')<br>plt.show()"
   ]
  },
  {
   "cell_type": "code",
   "execution_count": null,
   "id": "8f0a2c1d",
   "metadata": {},
   "outputs": [],
   "source": [
    "line_fitter = LinearRegression()\n",
    "line_fitter.fit(X.values.reshape(-1,1), y)"
   ]
  },
  {
   "cell_type": "code",
   "execution_count": null,
   "id": "cc742f20",
   "metadata": {},
   "outputs": [],
   "source": [
    "# 이제 한 번 예측을 해보죠. 키가 70인 사람을 예측한다고 치면 이렇게.\n",
    "line_fitter.predict([[70]])"
   ]
  },
  {
   "cell_type": "markdown",
   "id": "4afa0e4d",
   "metadata": {},
   "source": [
    "## 이런 값을 돌려준다. array([134.2596226]). 몸무게가 134 정도 되나보다."
   ]
  },
  {
   "cell_type": "code",
   "execution_count": null,
   "id": "ddc2dc8e",
   "metadata": {},
   "outputs": [],
   "source": [
    "# 그렇다면 기울기를 알려달라고 해보자.\n",
    "line_fitter.coef_"
   ]
  },
  {
   "cell_type": "markdown",
   "id": "89a3daa1",
   "metadata": {},
   "source": [
    "## 이번엔 절편을 알려달라고 해보자."
   ]
  },
  {
   "cell_type": "code",
   "execution_count": null,
   "id": "3084386c",
   "metadata": {},
   "outputs": [],
   "source": [
    "line_fitter.intercept_"
   ]
  },
  {
   "cell_type": "code",
   "execution_count": null,
   "id": "799e700d",
   "metadata": {},
   "outputs": [],
   "source": [
    "plt.plot(X, y, 'o')\n",
    "plt.plot(X,line_fitter.predict(X.values.reshape(-1,1)))\n",
    "plt.show()"
   ]
  },
  {
   "cell_type": "code",
   "execution_count": null,
   "id": "dbd0928c",
   "metadata": {},
   "outputs": [],
   "source": []
  }
 ],
 "metadata": {
  "kernelspec": {
   "display_name": "Python 3",
   "language": "python",
   "name": "python3"
  },
  "language_info": {
   "codemirror_mode": {
    "name": "ipython",
    "version": 3
   },
   "file_extension": ".py",
   "mimetype": "text/x-python",
   "name": "python",
   "nbconvert_exporter": "python",
   "pygments_lexer": "ipython3",
   "version": "3.7.10"
  }
 },
 "nbformat": 4,
 "nbformat_minor": 5
}
