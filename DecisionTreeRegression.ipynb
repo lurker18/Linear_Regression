{
 "cells": [
  {
   "cell_type": "markdown",
   "id": "12b19e6a",
   "metadata": {},
   "source": [
    "# 의사결정트리(Decision Tree)는 다양한 규칙을 순차로 적용하면서 독립변수의 공간을 분류하고 기준값을 정하는 모델이라고 할 수 있다."
   ]
  },
  {
   "cell_type": "markdown",
   "id": "6ee4f60e",
   "metadata": {},
   "source": [
    "### 매우 직관적인 분류모델이고 자료의 결과를 해석하기가 용이해서 많이 사용하는 알고리즘이라고 볼 수 있다."
   ]
  },
  {
   "cell_type": "code",
   "execution_count": 39,
   "id": "d8bdc33a",
   "metadata": {},
   "outputs": [],
   "source": [
    "from sklearn.tree import DecisionTreeClassifier # 의사결정 분류 회귀분석 패키지\n",
    "from sklearn.datasets import load_breast_cancer # 미국 유방암 데이터셋\n",
    "from sklearn.model_selection import train_test_split # 학습 및 테스트 데이터셋 분류기"
   ]
  },
  {
   "cell_type": "code",
   "execution_count": 8,
   "id": "62059ca7",
   "metadata": {},
   "outputs": [],
   "source": [
    "cancer = load_breast_cancer()"
   ]
  },
  {
   "cell_type": "code",
   "execution_count": 40,
   "id": "8b10bec0",
   "metadata": {},
   "outputs": [],
   "source": [
    "X_train, X_test, y_train, y_test = train_test_split(cancer.data, cancer.target, stratify = cancer.target, random_state = 42) \n",
    "# cancer.target에는 양성(Benign)과 음성(Malignant)별로 셔플하여 학습 데이터와 테스트 데이터에 각각 저장 해준다."
   ]
  },
  {
   "cell_type": "code",
   "execution_count": 10,
   "id": "395f7998",
   "metadata": {},
   "outputs": [],
   "source": [
    "dTreeAll = DecisionTreeClassifier(random_state = 42)"
   ]
  },
  {
   "cell_type": "code",
   "execution_count": 11,
   "id": "b63cbda6",
   "metadata": {},
   "outputs": [
    {
     "data": {
      "text/plain": [
       "DecisionTreeClassifier(random_state=42)"
      ]
     },
     "execution_count": 11,
     "metadata": {},
     "output_type": "execute_result"
    }
   ],
   "source": [
    "dTreeAll.fit(X_train, y_train)"
   ]
  },
  {
   "cell_type": "code",
   "execution_count": 12,
   "id": "e2f89140",
   "metadata": {},
   "outputs": [
    {
     "name": "stdout",
     "output_type": "stream",
     "text": [
      "Train Set Score1 : 1.00\n",
      "Test Set Score1 : 0.92\n"
     ]
    }
   ],
   "source": [
    "print(\"Train Set Score1 : {:.2f}\".format(dTreeAll.score(X_train, y_train)))\n",
    "print(\"Test Set Score1 : {:.2f}\".format(dTreeAll.score(X_test, y_test)))"
   ]
  },
  {
   "cell_type": "code",
   "execution_count": 41,
   "id": "8aeeec32",
   "metadata": {},
   "outputs": [],
   "source": [
    "dTreeLimit = DecisionTreeClassifier(max_depth = 4, random_state = 42)"
   ]
  },
  {
   "cell_type": "code",
   "execution_count": 42,
   "id": "33e8d69d",
   "metadata": {},
   "outputs": [
    {
     "data": {
      "text/plain": [
       "DecisionTreeClassifier(max_depth=4, random_state=42)"
      ]
     },
     "execution_count": 42,
     "metadata": {},
     "output_type": "execute_result"
    }
   ],
   "source": [
    "dTreeLimit.fit(X_train, y_train)"
   ]
  },
  {
   "cell_type": "code",
   "execution_count": 43,
   "id": "ffdcf3ea",
   "metadata": {},
   "outputs": [
    {
     "name": "stdout",
     "output_type": "stream",
     "text": [
      "Train Set Score2 : 0.99\n",
      "Test Set Score2 : 0.94\n"
     ]
    }
   ],
   "source": [
    "print(\"Train Set Score2 : {:.2f}\".format(dTreeLimit.score(X_train, y_train)))\n",
    "print(\"Test Set Score2 : {:.2f}\".format(dTreeLimit.score(X_test, y_test)))"
   ]
  },
  {
   "cell_type": "code",
   "execution_count": 44,
   "id": "c5d73419",
   "metadata": {},
   "outputs": [],
   "source": [
    "dTreeLimit = DecisionTreeClassifier(max_depth = 100, random_state = 42)"
   ]
  },
  {
   "cell_type": "code",
   "execution_count": 45,
   "id": "e393f936",
   "metadata": {},
   "outputs": [
    {
     "data": {
      "text/plain": [
       "DecisionTreeClassifier(max_depth=100, random_state=42)"
      ]
     },
     "execution_count": 45,
     "metadata": {},
     "output_type": "execute_result"
    }
   ],
   "source": [
    "dTreeLimit.fit(X_train, y_train)"
   ]
  },
  {
   "cell_type": "code",
   "execution_count": 46,
   "id": "94a70127",
   "metadata": {},
   "outputs": [
    {
     "name": "stdout",
     "output_type": "stream",
     "text": [
      "Train Set Score2 : 1.00\n",
      "Test Set Score2 : 0.92\n"
     ]
    }
   ],
   "source": [
    "print(\"Train Set Score2 : {:.2f}\".format(dTreeLimit.score(X_train, y_train)))\n",
    "print(\"Test Set Score2 : {:.2f}\".format(dTreeLimit.score(X_test, y_test)))"
   ]
  },
  {
   "cell_type": "code",
   "execution_count": null,
   "id": "19cc3685",
   "metadata": {},
   "outputs": [],
   "source": []
  }
 ],
 "metadata": {
  "kernelspec": {
   "display_name": "Python 3",
   "language": "python",
   "name": "python3"
  },
  "language_info": {
   "codemirror_mode": {
    "name": "ipython",
    "version": 3
   },
   "file_extension": ".py",
   "mimetype": "text/x-python",
   "name": "python",
   "nbconvert_exporter": "python",
   "pygments_lexer": "ipython3",
   "version": "3.7.10"
  }
 },
 "nbformat": 4,
 "nbformat_minor": 5
}
