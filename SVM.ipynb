{
 "cells": [
  {
   "cell_type": "markdown",
   "id": "3ade9974",
   "metadata": {},
   "source": [
    "# 서포트 벡터 머신 (Support Vector Machine) 실습"
   ]
  },
  {
   "cell_type": "markdown",
   "id": "ccb2149b",
   "metadata": {},
   "source": [
    "# X 데이터 : 피쳐2개. \n",
    "\n",
    "# Y데이터 : 라벨 (0, 1) binary 분류값.\n",
    "\n",
    "# SVM으로 최적 구분 라인 계산.\n",
    "\n",
    "# 임의의 값에 대해 Y데이터 예측하기.\n"
   ]
  },
  {
   "cell_type": "code",
   "execution_count": 1,
   "id": "443d1a7b",
   "metadata": {},
   "outputs": [],
   "source": [
    "from sklearn.svm import SVC\n",
    "import matplotlib.pyplot as plt\n",
    "import numpy as np"
   ]
  },
  {
   "cell_type": "markdown",
   "id": "ce9364be",
   "metadata": {},
   "source": [
    "# x데이터의 벡터는 2차원이고 구분 레이블은 y로 0, 1로 두 그룹으로 나눈다.\n"
   ]
  },
  {
   "cell_type": "code",
   "execution_count": 2,
   "id": "c6ec096a",
   "metadata": {},
   "outputs": [
    {
     "name": "stdout",
     "output_type": "stream",
     "text": [
      "[0]\n",
      "[1]\n"
     ]
    }
   ],
   "source": [
    "X = np.array([[1,2],\n",
    "[5,8],\n",
    "[1.5,1.8],\n",
    "[8,8],\n",
    "[1,0.6],\n",
    "[9,11]])\n",
    "\n",
    "y = [0,1,0,1,0,1]\n",
    "clf = SVC(kernel='linear', C = 1.0) # C is error penalty. if C is bigger then more strictly but margin will be narrow...\n",
    "clf.fit(X,y)"
   ]
  },
  {
   "cell_type": "markdown",
   "id": "c6fd6cc9",
   "metadata": {},
   "source": [
    "# SVC의 리턴값으노 clf로 피팅을 하게 되면\n",
    "# clf.predict()로 입력값 x에 대한 구분 레이블 y를 예측할 수 있다.\n"
   ]
  },
  {
   "cell_type": "code",
   "execution_count": 3,
   "id": "18c3b1f4",
   "metadata": {},
   "outputs": [
    {
     "name": "stdout",
     "output_type": "stream",
     "text": [
      "[0]\n",
      "[1]\n"
     ]
    }
   ],
   "source": [
    "print(clf.predict([[0.58,0.76]]))\n",
    "print(clf.predict([[10.58,10.76]]))"
   ]
  },
  {
   "cell_type": "markdown",
   "id": "4b6c99b6",
   "metadata": {},
   "source": [
    "### x데이터의 벡터요소(피쳐)를 x0, x1라 하면\n",
    "### 새로운 좌표계의 1차원 좌표축을 z라하면\n",
    "### z = f (x0, x1) \n",
    "### z>=0 이면 레이블1, z<0이면 레이블 0가 될 것이다. (z=0이면 1일까? 맞다.)\n",
    "### clf의 coef_로 w0, w1를 얻고, intercept로 b를 얻는다.\n",
    "### w0, w1는 입력값의 가중치. b 는 bias\n",
    "\n",
    "### z = w0*x0+w1*x1 + b 가 된다.\n",
    "### 따라서 위 라인 (z=0으로 놓는다.)을 기준으로 분류한다."
   ]
  },
  {
   "cell_type": "code",
   "execution_count": 4,
   "id": "bbc9bdb5",
   "metadata": {},
   "outputs": [
    {
     "name": "stdout",
     "output_type": "stream",
     "text": [
      "[0.1380943  0.24462418]\n"
     ]
    }
   ],
   "source": [
    "w = clf.coef_[0]\n",
    "print(w)\n",
    "a = -w[0] / w[1]"
   ]
  },
  {
   "cell_type": "markdown",
   "id": "2d428944",
   "metadata": {},
   "source": [
    "### 위 라인을 x1(Y축)에 대해 정리하면\n",
    "### 기울기는 -w0/w1\n",
    "### y절편은 -b/w1가 된다.\n",
    "### 이 라인이 구분선이 된다."
   ]
  },
  {
   "cell_type": "code",
   "execution_count": 5,
   "id": "c90bf947",
   "metadata": {},
   "outputs": [],
   "source": [
    "xx = np.linspace(0,12)\n",
    "yy = a * xx - clf.intercept_[0] / w[1]"
   ]
  },
  {
   "cell_type": "code",
   "execution_count": 10,
   "id": "030e736e",
   "metadata": {},
   "outputs": [
    {
     "data": {
      "image/png": "[encoded data removed]",
      "text/plain": [
       "<Figure size 432x288 with 1 Axes>"
      ]
     },
     "metadata": {
      "needs_background": "light"
     },
     "output_type": "display_data"
    }
   ],
   "source": [
    "h0 = plt.plot(xx, yy, 'k-', label=\"non weighted div\")\n",
    "plt.scatter(X[:, 0], X[:, 1], c = y)\n",
    "plt.legend()\n",
    "plt.show()"
   ]
  },
  {
   "cell_type": "code",
   "execution_count": null,
   "id": "a30c3881",
   "metadata": {},
   "outputs": [],
   "source": []
  }
 ],
 "metadata": {
  "kernelspec": {
   "display_name": "Python 3",
   "language": "python",
   "name": "python3"
  },
  "language_info": {
   "codemirror_mode": {
    "name": "ipython",
    "version": 3
   },
   "file_extension": ".py",
   "mimetype": "text/x-python",
   "name": "python",
   "nbconvert_exporter": "python",
   "pygments_lexer": "ipython3",
   "version": "3.7.10"
  }
 },
 "nbformat": 4,
 "nbformat_minor": 5
}
